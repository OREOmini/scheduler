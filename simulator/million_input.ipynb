{
 "cells": [
  {
   "cell_type": "markdown",
   "metadata": {},
   "source": [
    "# utils"
   ]
  },
  {
   "cell_type": "code",
   "execution_count": null,
   "metadata": {},
   "outputs": [],
   "source": [
    "# import yaml\n",
    "\n",
    "def podDict(l, i):\n",
    "    d = dict()\n",
    "    d['name'] = \"pod\"+str(i)\n",
    "    d['cpu'] = int(l[0])\n",
    "    d['mem'] = int(l[1])\n",
    "    return d"
   ]
  },
  {
   "cell_type": "code",
   "execution_count": 3,
   "metadata": {},
   "outputs": [],
   "source": [
    "def nodeDict(l, i):\n",
    "    d = dict()\n",
    "    d['name'] = \"node\"+str(i)\n",
    "    d['cpu'] = int(l[0])\n",
    "    d['mem'] = int(l[1])\n",
    "    d['pnum'] = int(l[2])\n",
    "    return d"
   ]
  },
  {
   "cell_type": "code",
   "execution_count": 4,
   "metadata": {},
   "outputs": [],
   "source": [
    "import numpy as np\n",
    "\n",
    "def get_random_pod_matrix(pod_num, min_v, max_v):\n",
    "    return np.random.randint(min_v, max_v, (pod_num, 2))\n",
    "#     return np.random.randint(2, 10, (pod_num, 2))\n",
    "    \n",
    "def get_random_node_matrix(node_num, min_v, max_v, equal_to_110 = False):\n",
    "    nodeList = np.random.randint(min_v, max_v, (node_num, 2))\n",
    "    if equal_to_110:\n",
    "        t = np.full( (node_num, 1), 110)\n",
    "    else:\n",
    "        t = np.random.randint(80, 110, (node_num, 1))\n",
    "    return np.c_[nodeList, t]"
   ]
  },
  {
   "cell_type": "code",
   "execution_count": 5,
   "metadata": {},
   "outputs": [
    {
     "name": "stdout",
     "output_type": "stream",
     "text": [
      "[[4 5]\n",
      " [3 5]]\n",
      "[[183 177 110]\n",
      " [158 164 110]\n",
      " [197 137 110]\n",
      " [180 118 110]\n",
      " [101 185 110]\n",
      " [151 148 110]\n",
      " [137 164 110]\n",
      " [153 198 110]\n",
      " [126 177 110]]\n"
     ]
    }
   ],
   "source": [
    "print(get_random_pod_matrix(2, 3, 6))\n",
    "print(get_random_node_matrix(9, 100, 200, True))"
   ]
  },
  {
   "cell_type": "markdown",
   "metadata": {},
   "source": [
    "# million data\n",
    "*for the previous data input requirement*"
   ]
  },
  {
   "cell_type": "code",
   "execution_count": 8,
   "metadata": {},
   "outputs": [],
   "source": [
    "import random"
   ]
  },
  {
   "cell_type": "code",
   "execution_count": 64,
   "metadata": {},
   "outputs": [],
   "source": [
    "# res = []\n",
    "node_num = 3\n",
    "node_max = 10\n",
    "c = 0\n",
    "count = 0\n",
    "\n",
    "while count < 100000:\n",
    "    d = dict()\n",
    "    c = c+1\n",
    "    count = count + 1\n",
    "    if c == 18000:\n",
    "        c = 0\n",
    "        node_num = node_num+1\n",
    "    p = get_random_pod_matrix(20, 4, 10)\n",
    "    n = get_random_node_matrix(random.randint(3, 21), 200, 900, True)\n",
    "    d['Pods'] = p\n",
    "    d['Nodes'] = n\n",
    "    res.append(d)\n",
    "    "
   ]
  },
  {
   "cell_type": "code",
   "execution_count": 65,
   "metadata": {},
   "outputs": [
    {
     "data": {
      "text/plain": [
       "600000"
      ]
     },
     "execution_count": 65,
     "metadata": {},
     "output_type": "execute_result"
    }
   ],
   "source": [
    "len(res)"
   ]
  },
  {
   "cell_type": "code",
   "execution_count": 66,
   "metadata": {},
   "outputs": [],
   "source": [
    "node_num = 3\n",
    "node_max = 10\n",
    "c = 0\n",
    "count = 0\n",
    "\n",
    "while count < 200000:\n",
    "    d = dict()\n",
    "    c = c+1\n",
    "    count = count + 1\n",
    "    if c == 18000:\n",
    "        c = 0\n",
    "        node_num = node_num+1\n",
    "    p = get_random_pod_matrix(20, 50, 100)\n",
    "    n = get_random_node_matrix(random.randint(3, 21), 300, 500, True)\n",
    "    d['Pods'] = p\n",
    "    d['Nodes'] = n\n",
    "    res.append(d)"
   ]
  },
  {
   "cell_type": "code",
   "execution_count": 67,
   "metadata": {},
   "outputs": [
    {
     "data": {
      "text/plain": [
       "800000"
      ]
     },
     "execution_count": 67,
     "metadata": {},
     "output_type": "execute_result"
    }
   ],
   "source": [
    "len(res)"
   ]
  },
  {
   "cell_type": "code",
   "execution_count": 68,
   "metadata": {},
   "outputs": [],
   "source": [
    "node_num = 3\n",
    "node_max = 10\n",
    "c = 0\n",
    "count = 0\n",
    "\n",
    "while count < 100000:\n",
    "    d = dict()\n",
    "    c = c+1\n",
    "    count = count + 1\n",
    "    if c == 18000:\n",
    "        c = 0\n",
    "        node_num = node_num+1\n",
    "    p = get_random_pod_matrix(20, 50, 100)\n",
    "    n = get_random_node_matrix(random.randint(10, 21), 800, 900, True)\n",
    "    d['Pods'] = p\n",
    "    d['Nodes'] = n\n",
    "    res.append(d)"
   ]
  },
  {
   "cell_type": "code",
   "execution_count": 69,
   "metadata": {},
   "outputs": [
    {
     "data": {
      "text/plain": [
       "900000"
      ]
     },
     "execution_count": 69,
     "metadata": {},
     "output_type": "execute_result"
    }
   ],
   "source": [
    "len(res)"
   ]
  },
  {
   "cell_type": "code",
   "execution_count": 74,
   "metadata": {},
   "outputs": [],
   "source": [
    "node_num = 3\n",
    "node_max = 10\n",
    "c = 0\n",
    "count = 0\n",
    "r = []\n",
    "\n",
    "while count < 100000:\n",
    "    d = dict()\n",
    "    c = c+1\n",
    "    count = count + 1\n",
    "    if c == 18000:\n",
    "        c = 0\n",
    "        node_num = node_num+1\n",
    "    p = get_random_pod_matrix(20, 50, 100)\n",
    "    n = get_random_node_matrix(random.randint(13, 19), 800, 900, True)\n",
    "    d['Pods'] = p\n",
    "    d['Nodes'] = n\n",
    "    r.append(d)"
   ]
  },
  {
   "cell_type": "code",
   "execution_count": 75,
   "metadata": {},
   "outputs": [],
   "source": [
    "res = res[0:900000]+r"
   ]
  },
  {
   "cell_type": "code",
   "execution_count": 13,
   "metadata": {},
   "outputs": [],
   "source": [
    "count = 0\n",
    "r = []\n",
    "\n",
    "while count < 500000:\n",
    "    d = dict()\n",
    "    count = count + 1\n",
    "    p = get_random_pod_matrix(20, 50, 100)\n",
    "    n = get_random_node_matrix(10, 800, 900, True)\n",
    "    d['Pods'] = p\n",
    "    d['Nodes'] = n\n",
    "    r.append(d)"
   ]
  },
  {
   "cell_type": "markdown",
   "metadata": {},
   "source": [
    "# run twice with different params to get 1 million\n",
    "*for the current 20pods-10nodes data requirement*"
   ]
  },
  {
   "cell_type": "code",
   "execution_count": 14,
   "metadata": {},
   "outputs": [],
   "source": [
    "count = 0\n",
    "while count < 500000:\n",
    "    d = dict()\n",
    "    count = count + 1\n",
    "    p = get_random_pod_matrix(20, 50, 100)\n",
    "    n = get_random_node_matrix(10, 800, 900)\n",
    "    d['Pods'] = p\n",
    "    d['Nodes'] = n\n",
    "    r.append(d)"
   ]
  },
  {
   "cell_type": "code",
   "execution_count": 15,
   "metadata": {},
   "outputs": [
    {
     "data": {
      "text/plain": [
       "1000000"
      ]
     },
     "execution_count": 15,
     "metadata": {},
     "output_type": "execute_result"
    }
   ],
   "source": [
    "len(r)"
   ]
  },
  {
   "cell_type": "code",
   "execution_count": 76,
   "metadata": {},
   "outputs": [
    {
     "data": {
      "text/plain": [
       "1000000"
      ]
     },
     "execution_count": 76,
     "metadata": {},
     "output_type": "execute_result"
    }
   ],
   "source": [
    "len(res)"
   ]
  },
  {
   "cell_type": "code",
   "execution_count": 77,
   "metadata": {},
   "outputs": [
    {
     "data": {
      "text/plain": [
       "{'Pods': array([[50, 85],\n",
       "        [97, 56],\n",
       "        [77, 54],\n",
       "        [65, 76],\n",
       "        [51, 85],\n",
       "        [83, 79],\n",
       "        [89, 55],\n",
       "        [61, 91],\n",
       "        [68, 51],\n",
       "        [73, 59],\n",
       "        [79, 54],\n",
       "        [84, 83],\n",
       "        [74, 59],\n",
       "        [51, 85],\n",
       "        [91, 54],\n",
       "        [57, 50],\n",
       "        [70, 75],\n",
       "        [56, 92],\n",
       "        [67, 50],\n",
       "        [68, 92]]), 'Nodes': array([[866, 814, 110],\n",
       "        [889, 856, 110],\n",
       "        [867, 883, 110],\n",
       "        [885, 857, 110],\n",
       "        [873, 854, 110],\n",
       "        [887, 851, 110],\n",
       "        [894, 870, 110],\n",
       "        [867, 843, 110],\n",
       "        [872, 855, 110],\n",
       "        [880, 847, 110],\n",
       "        [822, 871, 110],\n",
       "        [841, 894, 110],\n",
       "        [858, 860, 110]])}"
      ]
     },
     "execution_count": 77,
     "metadata": {},
     "output_type": "execute_result"
    }
   ],
   "source": [
    "res[999999]"
   ]
  },
  {
   "cell_type": "markdown",
   "metadata": {},
   "source": [
    "# generate the million input"
   ]
  },
  {
   "cell_type": "code",
   "execution_count": 16,
   "metadata": {},
   "outputs": [],
   "source": [
    "data = []\n",
    "for d in r:\n",
    "    pods = d['Pods']\n",
    "    nodes = d['Nodes']\n",
    "    podList = []\n",
    "    nodeList = []\n",
    "    d = dict()\n",
    "\n",
    "    for i in range(len(pods)):\n",
    "        t = podDict(pods[i], i)\n",
    "        podList.append(t)\n",
    "\n",
    "    for i in range(len(nodes)):\n",
    "        t = nodeDict(nodes[i], i)\n",
    "        nodeList.append(t)\n",
    "    d['Pods'] = podList\n",
    "    d['Nodes'] = nodeList\n",
    "    data.append(d)\n",
    "    "
   ]
  },
  {
   "cell_type": "code",
   "execution_count": 17,
   "metadata": {},
   "outputs": [
    {
     "data": {
      "text/plain": [
       "1000000"
      ]
     },
     "execution_count": 17,
     "metadata": {},
     "output_type": "execute_result"
    }
   ],
   "source": [
    "len(data)"
   ]
  },
  {
   "cell_type": "code",
   "execution_count": 18,
   "metadata": {},
   "outputs": [],
   "source": [
    "import json\n",
    "\n",
    "with open('temp.json', 'w') as f:\n",
    "    json.dump(data, f)"
   ]
  }
 ],
 "metadata": {
  "kernelspec": {
   "display_name": "my_python3",
   "language": "python",
   "name": "my_python3"
  },
  "language_info": {
   "codemirror_mode": {
    "name": "ipython",
    "version": 3
   },
   "file_extension": ".py",
   "mimetype": "text/x-python",
   "name": "python",
   "nbconvert_exporter": "python",
   "pygments_lexer": "ipython3",
   "version": "3.7.2"
  }
 },
 "nbformat": 4,
 "nbformat_minor": 2
}
