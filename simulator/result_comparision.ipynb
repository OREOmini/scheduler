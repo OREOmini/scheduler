{
 "cells": [
  {
   "cell_type": "code",
   "execution_count": 1,
   "metadata": {},
   "outputs": [
    {
     "name": "stdout",
     "output_type": "stream",
     "text": [
      "18\n"
     ]
    }
   ],
   "source": [
    "import json\n",
    "\n",
    "with open('simulator_results.json', 'r') as f:\n",
    "    sim_res = json.load(f)\n",
    "    \n",
    "print(len(sim_res))"
   ]
  },
  {
   "cell_type": "code",
   "execution_count": 9,
   "metadata": {},
   "outputs": [
    {
     "name": "stdout",
     "output_type": "stream",
     "text": [
      "206\n"
     ]
    }
   ],
   "source": [
    "with open('my_result.json', 'r') as f:\n",
    "    my_res = json.load(f)\n",
    "print(len(my_res))"
   ]
  },
  {
   "cell_type": "code",
   "execution_count": 22,
   "metadata": {},
   "outputs": [
    {
     "data": {
      "text/plain": [
       "{'time': 0.018829822540283203,\n",
       " 'output': [[0.0], [1.0], [0.0], [0.0], [0.0]],\n",
       " 'Pods': [{'name': 'pod0', 'cpu': 9, 'mem': 4}],\n",
       " 'Nodes': [{'name': 'node0', 'cpu': 245, 'mem': 213, 'pnum': 260},\n",
       "  {'name': 'node1', 'cpu': 214, 'mem': 257, 'pnum': 293},\n",
       "  {'name': 'node2', 'cpu': 286, 'mem': 235, 'pnum': 235},\n",
       "  {'name': 'node3', 'cpu': 278, 'mem': 245, 'pnum': 214},\n",
       "  {'name': 'node4', 'cpu': 227, 'mem': 214, 'pnum': 284}]}"
      ]
     },
     "execution_count": 22,
     "metadata": {},
     "output_type": "execute_result"
    }
   ],
   "source": [
    "my_res[0]"
   ]
  },
  {
   "cell_type": "code",
   "execution_count": 28,
   "metadata": {},
   "outputs": [
    {
     "name": "stdout",
     "output_type": "stream",
     "text": [
      "0\n",
      "1\n",
      "2\n",
      "3\n",
      "4\n",
      "5\n",
      "6\n",
      "7\n",
      "49\n",
      "50\n",
      "51\n",
      "52\n",
      "98\n",
      "99\n",
      "100\n",
      "101\n",
      "157\n",
      "158\n"
     ]
    }
   ],
   "source": [
    "mt = []\n",
    "st = []\n",
    "p = []\n",
    "for r in sim_res:\n",
    "    i = r['index']\n",
    "    print(i)\n",
    "    m = my_res[i]\n",
    "    mt.append(m['time'])\n",
    "    st.append(r['time'])\n",
    "    p.append(len(m['Pods']))\n",
    "#     print('my time:', m['time'], \", sim time:\", r['time'])"
   ]
  },
  {
   "cell_type": "code",
   "execution_count": 29,
   "metadata": {},
   "outputs": [
    {
     "data": {
      "text/plain": [
       "[1, 2, 3, 4, 5, 6, 7, 8, 2, 4, 6, 8, 2, 4, 6, 8, 3, 6]"
      ]
     },
     "execution_count": 29,
     "metadata": {},
     "output_type": "execute_result"
    }
   ],
   "source": [
    "p"
   ]
  },
  {
   "cell_type": "code",
   "execution_count": 79,
   "metadata": {},
   "outputs": [
    {
     "data": {
      "image/png": "[encoded data removed]",
      "text/plain": [
       "<Figure size 720x216 with 1 Axes>"
      ]
     },
     "metadata": {
      "needs_background": "light"
     },
     "output_type": "display_data"
    }
   ],
   "source": [
    "import matplotlib.pyplot as plt\n",
    "\n",
    "figure = plt.figure(figsize = (10,3))\n",
    "# plt.plot(mt, st)\n",
    "# plt.plot(p, mt, color = 'red', linewidth = 1.5, label = 'my')\n",
    "# plt.plot(p, st, color = 'blue', linewidth = 1.5, label = 's')\n",
    "plt.title('time comparison')\n",
    "plt.scatter(p, mt,  s=25, alpha=.5, label='custom scheduler time')\n",
    "plt.scatter(p, st, s = 25, c = 'red', alpha=.25, label='simulator time')\n",
    "plt.xlabel('pod number')\n",
    "plt.ylabel('time',rotation = 90)\n",
    "plt.savefig('time_comparision.png')\n",
    "plt.legend(loc='upper left')\n",
    "plt.show()"
   ]
  },
  {
   "cell_type": "code",
   "execution_count": 58,
   "metadata": {},
   "outputs": [
    {
     "data": {
      "text/plain": [
       "['', '1']"
      ]
     },
     "execution_count": 58,
     "metadata": {},
     "output_type": "execute_result"
    }
   ],
   "source": [
    "'pod1'.split('pod')"
   ]
  },
  {
   "cell_type": "code",
   "execution_count": 76,
   "metadata": {},
   "outputs": [],
   "source": [
    "import numpy as np\n",
    "\n",
    "sr = []\n",
    "mr = []\n",
    "\n",
    "for r in sim_res:\n",
    "    i = r['index']\n",
    "#     print(i)\n",
    "    res = r['result']\n",
    "    m = my_res[i]\n",
    "    pn = len(m['Pods'])\n",
    "    nn = len(m['Nodes'])\n",
    "    sm = np.zeros([nn, pn])\n",
    "    for a in res:\n",
    "        x = int(a[0].split('pod')[1])\n",
    "        y = int(a[1].split('node')[1])\n",
    "        sm[y][x] = 1.0\n",
    "#     print((np.linalg.matrix_rank(sm)))\n",
    "    sr.append(np.linalg.matrix_rank(sm))\n",
    "    \n",
    "    m_res  = np.array(m['output'])\n",
    "#     print(my_res)\n",
    "#     print(np.linalg.matrix_rank(m_res))\n",
    "    mr.append(np.linalg.matrix_rank(m_res))\n",
    "#     f = (my_res == sm)\n",
    "#     print(f)"
   ]
  },
  {
   "cell_type": "code",
   "execution_count": 78,
   "metadata": {},
   "outputs": [
    {
     "data": {
      "image/png": "[encoded data removed]",
      "text/plain": [
       "<Figure size 720x216 with 1 Axes>"
      ]
     },
     "metadata": {
      "needs_background": "light"
     },
     "output_type": "display_data"
    }
   ],
   "source": [
    "figure = plt.figure(figsize = (10,3))\n",
    "# plt.plot(mt, st)\n",
    "# plt.plot(p, mt, color = 'red', linewidth = 1.5, label = 'my')\n",
    "# plt.plot(p, st, color = 'blue', linewidth = 1.5, label = 's')\n",
    "plt.title('node usage comparison')\n",
    "plt.scatter(p, mr,  s=25, alpha=.5, label='custom scheduler')\n",
    "plt.scatter(p, sr, s = 25, c = 'red', alpha=.25, label='simulator')\n",
    "plt.xlabel('pod number')\n",
    "plt.ylabel('node usage',rotation = 90)\n",
    "plt.savefig('node_usage_comparision.png')\n",
    "plt.legend(loc='upper left')\n",
    "plt.show()"
   ]
  },
  {
   "cell_type": "code",
   "execution_count": null,
   "metadata": {},
   "outputs": [],
   "source": []
  }
 ],
 "metadata": {
  "kernelspec": {
   "display_name": "my_python3",
   "language": "python",
   "name": "my_python3"
  },
  "language_info": {
   "codemirror_mode": {
    "name": "ipython",
    "version": 3
   },
   "file_extension": ".py",
   "mimetype": "text/x-python",
   "name": "python",
   "nbconvert_exporter": "python",
   "pygments_lexer": "ipython3",
   "version": "3.7.2"
  }
 },
 "nbformat": 4,
 "nbformat_minor": 2
}
