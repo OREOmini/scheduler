{
 "cells": [
  {
   "cell_type": "code",
   "execution_count": 2,
   "metadata": {},
   "outputs": [
    {
     "name": "stdout",
     "output_type": "stream",
     "text": [
      "4\n"
     ]
    }
   ],
   "source": [
    "import json\n",
    "import os\n",
    "\n",
    "result_file = os.path.abspath(os.path.join(os.path.dirname(\"__file__\"),os.path.pardir)) + '/python_file/results.json'\n",
    "with open(result_file, 'r') as f:\n",
    "    load_dict = json.load(f)\n",
    "    print(len(load_dict))"
   ]
  },
  {
   "cell_type": "code",
   "execution_count": 3,
   "metadata": {},
   "outputs": [],
   "source": [
    "import yaml\n",
    "\n",
    "def podDict(l, i):\n",
    "    d = dict()\n",
    "    d['name'] = \"pod\"+str(i)\n",
    "    d['cpu'] = l[0]\n",
    "    d['mem'] = l[1]\n",
    "    return d"
   ]
  },
  {
   "cell_type": "code",
   "execution_count": 4,
   "metadata": {},
   "outputs": [],
   "source": [
    "def nodeDict(l, i):\n",
    "    d = dict()\n",
    "    d['name'] = \"node\"+str(i)\n",
    "    d['cpu'] = l[0]\n",
    "    d['mem'] = l[1]\n",
    "    d['pnum'] = l[2]\n",
    "    return d"
   ]
  },
  {
   "cell_type": "code",
   "execution_count": 5,
   "metadata": {},
   "outputs": [],
   "source": [
    "res = []\n",
    "for k, v in load_dict.items():\n",
    "    for i in v:\n",
    "        pods = i['input_pods']\n",
    "        nodes = i['input_nodes']\n",
    "        podList = []\n",
    "        nodeList = []\n",
    "        d = dict()\n",
    "        \n",
    "        for i in range(len(pods)):\n",
    "            t = podDict(pods[i], i)\n",
    "            podList.append(t)\n",
    "            \n",
    "        for i in range(len(nodes)):\n",
    "            t = nodeDict(nodes[i], i)\n",
    "            nodeList.append(t)\n",
    "        d['Pods'] = podList\n",
    "        d['Nodes'] = nodeList\n",
    "        res.append(d)"
   ]
  },
  {
   "cell_type": "code",
   "execution_count": 6,
   "metadata": {},
   "outputs": [],
   "source": [
    "\n",
    "for i in range(len(res)):\n",
    "    with open(\"result_data/result_\"+str(i)+\".yaml\", 'w') as f:\n",
    "        yaml.dump(res[i], f)"
   ]
  },
  {
   "cell_type": "code",
   "execution_count": 7,
   "metadata": {},
   "outputs": [
    {
     "data": {
      "text/plain": [
       "206"
      ]
     },
     "execution_count": 7,
     "metadata": {},
     "output_type": "execute_result"
    }
   ],
   "source": [
    "len(res)"
   ]
  },
  {
   "cell_type": "code",
   "execution_count": 9,
   "metadata": {},
   "outputs": [],
   "source": [
    "def getFilePath(i):\n",
    "    return \"result_data/result_\"+str(i)+\".yaml\""
   ]
  },
  {
   "cell_type": "code",
   "execution_count": 21,
   "metadata": {},
   "outputs": [
    {
     "name": "stdout",
     "output_type": "stream",
     "text": [
      "206\n"
     ]
    }
   ],
   "source": [
    "import simulator\n",
    "import os\n",
    "import json.tool\n",
    "import subprocess\n",
    "\n",
    "DIR = 'result_data' #要统计的文件夹\n",
    "file_num = len([name for name in os.listdir(DIR) if os.path.isfile(os.path.join(DIR, name))])\n",
    "print (file_num )"
   ]
  },
  {
   "cell_type": "code",
   "execution_count": 28,
   "metadata": {},
   "outputs": [
    {
     "name": "stdout",
     "output_type": "stream",
     "text": [
      "['b\"AL: [[\\'pod0\\', \\'node0\\'], [\\'pod1\\', \\'node0\\'], [\\'pod2\\', \\'node0\\'], [\\'pod3\\', \\'node2\\']]\\\\nseconds: 0.0022058486938476562\\\\n\"']\n"
     ]
    }
   ],
   "source": [
    "from io import StringIO\n",
    "import sys\n",
    "\n",
    "old_stdout = sys.stdout\n",
    "sys.stdout = mystdout = StringIO()\n",
    "\n",
    "sys.stdout = old_stdout\n",
    "\n",
    "\n",
    "result_dict = dict()\n",
    "\n",
    "process = subprocess.run(\n",
    "    ['python3', 'simulator.py', getFilePath(3)],\n",
    "    stdin=subprocess.PIPE, stdout=subprocess.PIPE\n",
    ")\n",
    "print(process.stdout.getvalue())\n",
    "# process.stdout = str(process.stdout)\n",
    "# l = process.stdout.split('\\n')\n",
    "# print(l)"
   ]
  },
  {
   "cell_type": "code",
   "execution_count": 23,
   "metadata": {},
   "outputs": [
    {
     "name": "stdout",
     "output_type": "stream",
     "text": [
      "b\"AL: [['pod0', 'node2']]\\nseconds: 0.0001239776611328125\\n\"\n",
      "b\"AL: [['pod0', 'node0'], ['pod1', 'node0']]\\nseconds: 0.0001800060272216797\\n\"\n",
      "b\"AL: [['pod0', 'node2'], ['pod1', 'node2'], ['pod2', 'node2']]\\nseconds: 0.0007221698760986328\\n\"\n"
     ]
    }
   ],
   "source": [
    "for i in range(3):\n",
    "    process = subprocess.run(\n",
    "        ['python3', 'simulator.py', getFilePath(i)],\n",
    "        stdin=subprocess.PIPE, stdout=subprocess.PIPE\n",
    "    )\n",
    "    print(process.stdout)"
   ]
  },
  {
   "cell_type": "code",
   "execution_count": null,
   "metadata": {},
   "outputs": [],
   "source": []
  }
 ],
 "metadata": {
  "kernelspec": {
   "display_name": "my_python3",
   "language": "python",
   "name": "my_python3"
  },
  "language_info": {
   "codemirror_mode": {
    "name": "ipython",
    "version": 3
   },
   "file_extension": ".py",
   "mimetype": "text/x-python",
   "name": "python",
   "nbconvert_exporter": "python",
   "pygments_lexer": "ipython3",
   "version": "3.7.2"
  }
 },
 "nbformat": 4,
 "nbformat_minor": 2
}
