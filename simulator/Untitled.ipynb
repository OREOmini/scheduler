{
 "cells": [
  {
   "cell_type": "code",
   "execution_count": 1,
   "metadata": {},
   "outputs": [],
   "source": [
    "import yaml\n",
    "\n",
    "def podDict(l, i):\n",
    "    d = dict()\n",
    "    d['name'] = \"pod\"+str(i)\n",
    "    d['cpu'] = l[0]\n",
    "    d['mem'] = l[1]\n",
    "    return d"
   ]
  },
  {
   "cell_type": "code",
   "execution_count": 2,
   "metadata": {},
   "outputs": [],
   "source": [
    "def nodeDict(l, i):\n",
    "    d = dict()\n",
    "    d['name'] = \"node\"+str(i)\n",
    "    d['cpu'] = l[0]\n",
    "    d['mem'] = l[1]\n",
    "    d['pnum'] = l[2]\n",
    "    return d"
   ]
  },
  {
   "cell_type": "code",
   "execution_count": null,
   "metadata": {},
   "outputs": [],
   "source": [
    "import numpy as np"
   ]
  },
  {
   "cell_type": "code",
   "execution_count": 3,
   "metadata": {},
   "outputs": [
    {
     "ename": "SyntaxError",
     "evalue": "invalid syntax (<ipython-input-3-20f6b6e5e269>, line 10)",
     "output_type": "error",
     "traceback": [
      "\u001b[0;36m  File \u001b[0;32m\"<ipython-input-3-20f6b6e5e269>\"\u001b[0;36m, line \u001b[0;32m10\u001b[0m\n\u001b[0;31m    for i in range(len(pods)):\u001b[0m\n\u001b[0m      ^\u001b[0m\n\u001b[0;31mSyntaxError\u001b[0m\u001b[0;31m:\u001b[0m invalid syntax\n"
     ]
    }
   ],
   "source": [
    "res = []\n",
    "\n",
    "for k, v in load_dict.items():\n",
    "    for i in v:\n",
    "        pods = i['input_pods']\n",
    "        nodes = i['input_nodes']\n",
    "        podList = []\n",
    "        nodeList = []\n",
    "        d = dict(\n",
    "        \n",
    "        for i in range(len(pods)):\n",
    "            t = podDict(pods[i], i)\n",
    "            podList.append(t)\n",
    "            \n",
    "        for i in range(len(nodes)):\n",
    "            t = nodeDict(nodes[i], i)\n",
    "            nodeList.append(t)\n",
    "        d['Pods'] = podList\n",
    "        d['Nodes'] = nodeList\n",
    "        res.append(d)"
   ]
  },
  {
   "cell_type": "code",
   "execution_count": null,
   "metadata": {},
   "outputs": [],
   "source": [
    "\n",
    "for i in range(len(res)):\n",
    "    with open(\"result_data/result_\"+str(i)+\".yaml\", 'w') as f:\n",
    "        yaml.dump(res[i], f)"
   ]
  }
 ],
 "metadata": {
  "kernelspec": {
   "display_name": "my_python3",
   "language": "python",
   "name": "my_python3"
  },
  "language_info": {
   "codemirror_mode": {
    "name": "ipython",
    "version": 3
   },
   "file_extension": ".py",
   "mimetype": "text/x-python",
   "name": "python",
   "nbconvert_exporter": "python",
   "pygments_lexer": "ipython3",
   "version": "3.7.2"
  }
 },
 "nbformat": 4,
 "nbformat_minor": 2
}
