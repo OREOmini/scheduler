{
 "cells": [
  {
   "cell_type": "code",
   "execution_count": 1,
   "metadata": {},
   "outputs": [],
   "source": [
    "import yaml\n",
    "\n",
    "def podDict(l, i):\n",
    "    d = dict()\n",
    "    d['name'] = \"pod\"+str(i)\n",
    "    d['cpu'] = l[0]\n",
    "    d['mem'] = l[1]\n",
    "    return d"
   ]
  },
  {
   "cell_type": "code",
   "execution_count": 2,
   "metadata": {},
   "outputs": [],
   "source": [
    "def nodeDict(l, i):\n",
    "    d = dict()\n",
    "    d['name'] = \"node\"+str(i)\n",
    "    d['cpu'] = l[0]\n",
    "    d['mem'] = l[1]\n",
    "    d['pnum'] = l[2]\n",
    "    return d"
   ]
  },
  {
   "cell_type": "code",
   "execution_count": 15,
   "metadata": {},
   "outputs": [],
   "source": [
    "import numpy as np\n",
    "\n",
    "def get_random_pod_matrix(pod_num):\n",
    "    return np.random.randint(2, 10, (pod_num, 2))\n",
    "    \n",
    "def get_random_node_matrix(node_num):\n",
    "    nodeList = np.random.randint(2000, 4000, (node_num, 2))\n",
    "    t = np.random.randint(80, 110, (node_num, 1))\n",
    "    return np.c_[nodeList, t]"
   ]
  },
  {
   "cell_type": "code",
   "execution_count": 31,
   "metadata": {},
   "outputs": [
    {
     "name": "stdout",
     "output_type": "stream",
     "text": [
      "[[7 3]\n",
      " [4 8]]\n",
      "[[2153 2782   97]\n",
      " [2622 2464   86]\n",
      " [2378 2499   99]\n",
      " [2550 2600  107]\n",
      " [2396 2483   96]\n",
      " [2850 2440   96]\n",
      " [2178 2207  108]\n",
      " [2633 2837   83]\n",
      " [2112 2994   86]]\n"
     ]
    }
   ],
   "source": [
    "print(get_random_pod_matrix(2))\n",
    "print(get_random_node_matrix(9))"
   ]
  },
  {
   "cell_type": "markdown",
   "metadata": {},
   "source": [
    "# data generate test"
   ]
  },
  {
   "cell_type": "code",
   "execution_count": 3,
   "metadata": {},
   "outputs": [
    {
     "ename": "SyntaxError",
     "evalue": "invalid syntax (<ipython-input-3-20f6b6e5e269>, line 10)",
     "output_type": "error",
     "traceback": [
      "\u001b[0;36m  File \u001b[0;32m\"<ipython-input-3-20f6b6e5e269>\"\u001b[0;36m, line \u001b[0;32m10\u001b[0m\n\u001b[0;31m    for i in range(len(pods)):\u001b[0m\n\u001b[0m      ^\u001b[0m\n\u001b[0;31mSyntaxError\u001b[0m\u001b[0;31m:\u001b[0m invalid syntax\n"
     ]
    }
   ],
   "source": [
    "res = []\n",
    "\n",
    "for k, v in load_dict.items():\n",
    "    for i in v:\n",
    "        pods = i['input_pods']\n",
    "        nodes = i['input_nodes']\n",
    "        podList = []\n",
    "        nodeList = []\n",
    "        d = dict(\n",
    "        \n",
    "        for i in range(len(pods)):\n",
    "            t = podDict(pods[i], i)\n",
    "            podList.append(t)\n",
    "            \n",
    "        for i in range(len(nodes)):\n",
    "            t = nodeDict(nodes[i], i)\n",
    "            nodeList.append(t)\n",
    "        d['Pods'] = podList\n",
    "        d['Nodes'] = nodeList\n",
    "        res.append(d)"
   ]
  },
  {
   "cell_type": "code",
   "execution_count": 39,
   "metadata": {},
   "outputs": [],
   "source": [
    "res = []\n",
    "node_num = 3\n",
    "node_max = 5\n",
    "c = 0\n",
    "\n",
    "while node_num < node_max:\n",
    "    d = dict()\n",
    "    c = c+1\n",
    "    if c == 300:\n",
    "        c = 0\n",
    "        node_num = node_num+1\n",
    "    p = get_random_pod_matrix(20)\n",
    "    n = get_random_node_matrix(node_num)\n",
    "    d['Pods'] = p\n",
    "    d['Nodes'] = n\n",
    "    res.append(d)\n",
    "    "
   ]
  },
  {
   "cell_type": "markdown",
   "metadata": {},
   "source": [
    "# generate yaml file"
   ]
  },
  {
   "cell_type": "code",
   "execution_count": 33,
   "metadata": {},
   "outputs": [
    {
     "name": "stdout",
     "output_type": "stream",
     "text": [
      "5400\n"
     ]
    }
   ],
   "source": [
    "import json\n",
    "\n",
    "with open('temp.json', 'r') as f:\n",
    "    data_list = json.load(f)\n",
    "print(len(data_list))"
   ]
  },
  {
   "cell_type": "code",
   "execution_count": 35,
   "metadata": {},
   "outputs": [],
   "source": [
    "res = []\n",
    "for d in data_list:\n",
    "    pods = d['Pods']\n",
    "    nodes = d['Nodes']\n",
    "    podList = []\n",
    "    nodeList = []\n",
    "    d = dict()\n",
    "\n",
    "    for i in range(len(pods)):\n",
    "        t = podDict(pods[i], i)\n",
    "        podList.append(t)\n",
    "\n",
    "    for i in range(len(nodes)):\n",
    "        t = nodeDict(nodes[i], i)\n",
    "        nodeList.append(t)\n",
    "    d['Pods'] = podList\n",
    "    d['Nodes'] = nodeList\n",
    "    res.append(d)\n",
    "    "
   ]
  },
  {
   "cell_type": "code",
   "execution_count": 36,
   "metadata": {},
   "outputs": [
    {
     "data": {
      "text/plain": [
       "5400"
      ]
     },
     "execution_count": 36,
     "metadata": {},
     "output_type": "execute_result"
    }
   ],
   "source": [
    "len(res)"
   ]
  },
  {
   "cell_type": "code",
   "execution_count": 37,
   "metadata": {},
   "outputs": [],
   "source": [
    "\n",
    "for i in range(len(res)):\n",
    "    with open(\"input_data/pod_space_less_than_110/input_\"+str(i)+\".yaml\", 'w') as f:\n",
    "        yaml.dump(res[i], f)"
   ]
  },
  {
   "cell_type": "markdown",
   "metadata": {},
   "source": [
    "## pod space == 110"
   ]
  },
  {
   "cell_type": "code",
   "execution_count": 41,
   "metadata": {},
   "outputs": [
    {
     "name": "stdout",
     "output_type": "stream",
     "text": [
      "5400\n"
     ]
    }
   ],
   "source": [
    "with open('temp1s.json', 'r') as f:\n",
    "    data_list = json.load(f)\n",
    "print(len(data_list))"
   ]
  },
  {
   "cell_type": "code",
   "execution_count": 42,
   "metadata": {},
   "outputs": [],
   "source": [
    "res = []\n",
    "for d in data_list:\n",
    "    pods = d['Pods']\n",
    "    nodes = d['Nodes']\n",
    "    podList = []\n",
    "    nodeList = []\n",
    "    d = dict()\n",
    "\n",
    "    for i in range(len(pods)):\n",
    "        t = podDict(pods[i], i)\n",
    "        podList.append(t)\n",
    "\n",
    "    for i in range(len(nodes)):\n",
    "        t = nodeDict(nodes[i], i)\n",
    "        nodeList.append(t)\n",
    "    d['Pods'] = podList\n",
    "    d['Nodes'] = nodeList\n",
    "    res.append(d)\n",
    "    "
   ]
  },
  {
   "cell_type": "code",
   "execution_count": 43,
   "metadata": {},
   "outputs": [
    {
     "data": {
      "text/plain": [
       "5400"
      ]
     },
     "execution_count": 43,
     "metadata": {},
     "output_type": "execute_result"
    }
   ],
   "source": [
    "len(res)"
   ]
  },
  {
   "cell_type": "code",
   "execution_count": 44,
   "metadata": {},
   "outputs": [],
   "source": [
    "\n",
    "for i in range(len(res)):\n",
    "    with open(\"input_data/pod_space_equal_to_110/input_\"+str(i)+\".yaml\", 'w') as f:\n",
    "        yaml.dump(res[i], f)"
   ]
  }
 ],
 "metadata": {
  "kernelspec": {
   "display_name": "my_python3",
   "language": "python",
   "name": "my_python3"
  },
  "language_info": {
   "codemirror_mode": {
    "name": "ipython",
    "version": 3
   },
   "file_extension": ".py",
   "mimetype": "text/x-python",
   "name": "python",
   "nbconvert_exporter": "python",
   "pygments_lexer": "ipython3",
   "version": "3.7.2"
  }
 },
 "nbformat": 4,
 "nbformat_minor": 2
}
