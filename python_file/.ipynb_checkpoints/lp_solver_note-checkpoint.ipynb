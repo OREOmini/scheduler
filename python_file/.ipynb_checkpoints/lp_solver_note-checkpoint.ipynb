{
 "cells": [
  {
   "cell_type": "code",
   "execution_count": 7,
   "metadata": {},
   "outputs": [
    {
     "data": {
      "text/plain": [
       "2"
      ]
     },
     "execution_count": 7,
     "metadata": {},
     "output_type": "execute_result"
    }
   ],
   "source": [
    "dd = {0: {0: 12, 1: 11, 2: 4},\n",
    " 1: {0: 0, 1: 1, 2: 1}}\n",
    "\n",
    "def matrixing(d):\n",
    "    arr = []\n",
    "    for key, value in d.items():\n",
    "        temp = []\n",
    "        for k, v in value.items():\n",
    "            temp.append(v)\n",
    "        arr.append(temp)\n",
    "    return array(arr)\n",
    "\n",
    "# x = lambda x : [1] if 1 in x.values() else [0] for i in len(x)\n",
    "# sum(x(dd[r]) for r in len(dd))\n",
    "# sum(1 if 1 in dd[i].values() else 0 for i in range(len(dd)))\n",
    "sum(dd[1].values())\n",
    "# [[1] if 1 in dd[i] else [0] for i in len(dd)]\n",
    "# [2 for i in range(len(dd))]"
   ]
  },
  {
   "cell_type": "code",
   "execution_count": 8,
   "metadata": {},
   "outputs": [],
   "source": [
    "from pulp import *\n",
    "import numpy as np\n",
    "import time as time"
   ]
  },
  {
   "cell_type": "code",
   "execution_count": 9,
   "metadata": {},
   "outputs": [],
   "source": [
    "NODE_CPU_INDEX = 0\n",
    "NODE_MEMORY_INDEX = 1\n",
    "NODE_POD_SPACE_INDEX = 2\n",
    "\n",
    "POD_CPU_INDEX = 0\n",
    "POD_MEMORY_INDEX = 1"
   ]
  },
  {
   "cell_type": "code",
   "execution_count": 10,
   "metadata": {},
   "outputs": [
    {
     "data": {
      "text/plain": [
       "1"
      ]
     },
     "execution_count": 10,
     "metadata": {},
     "output_type": "execute_result"
    }
   ],
   "source": [
    "podList = list()\n",
    "podList = [\n",
    "    [10, 3],\n",
    "    [10, 1],\n",
    "    [10, 3]\n",
    "]\n",
    "nodeList = [\n",
    "    [30, 10, 9],\n",
    "    [40, 20, 7]\n",
    "]\n",
    "\n",
    "podNum = 3\n",
    "nodeNum = 2\n",
    "\n",
    "# podList = array(podList)\n",
    "# nodeList = array(nodeList)\n",
    "\n",
    "# p = [[False for col in range(podNum)] for row in range(nodeNum)]\n",
    "# E1 = [1 for i in range(podNum)]\n",
    "# E2 =  [1 for i in range(nodeNum)]\n",
    "# p = array(p)\n",
    "p = np.zeros(shape=(podNum,nodeNum))\n",
    "E1 = np.ones(shape=(1, podNum))\n",
    "E2 = np.ones(shape=(1, nodeNum))\n",
    "\n",
    "# a=p*E1.T\n",
    "\n",
    "p = np.array(\n",
    "   [ [0, 1,1],\n",
    "    [0, 0, 0],]\n",
    ")\n",
    "\n",
    "# asscalar(matmul(matmul(p, E1.T).T > 0, E2.T))\n",
    "\n",
    "np.linalg.matrix_rank(p)\n"
   ]
  },
  {
   "cell_type": "code",
   "execution_count": 11,
   "metadata": {},
   "outputs": [
    {
     "data": {
      "text/plain": [
       "1"
      ]
     },
     "execution_count": 11,
     "metadata": {},
     "output_type": "execute_result"
    }
   ],
   "source": [
    "def nodeCount(d):\n",
    "    c = 0\n",
    "    for key, value in d.items():\n",
    "        f = False\n",
    "        for k, v in value.items():\n",
    "            if v == 1:\n",
    "                f = True\n",
    "        if f: c = c + 1\n",
    "    return c\n",
    "nodeCount(dd)"
   ]
  },
  {
   "cell_type": "code",
   "execution_count": 12,
   "metadata": {},
   "outputs": [],
   "source": [
    "podList = list()\n",
    "podList = [\n",
    "    [10, 3],\n",
    "    [10, 1],\n",
    "    [5, 3]\n",
    "]\n",
    "nodeList = [\n",
    "    [20, 4, 9],\n",
    "    [15, 4, 7]\n",
    "]\n",
    "\n",
    "podNum = 3\n",
    "nodeNum = 2"
   ]
  },
  {
   "cell_type": "code",
   "execution_count": 13,
   "metadata": {},
   "outputs": [],
   "source": [
    "nRow = [i for i in range(nodeNum)]\n",
    "pCol = [i for i in range(podNum)]"
   ]
  },
  {
   "cell_type": "code",
   "execution_count": 14,
   "metadata": {},
   "outputs": [],
   "source": [
    "obj_dict = dict()\n",
    "for i in range(podNum):\n",
    "    if i == 0:\n",
    "        obj_dict[i] = 0\n",
    "    else:\n",
    "        obj_dict[i] = 1"
   ]
  },
  {
   "cell_type": "code",
   "execution_count": 15,
   "metadata": {},
   "outputs": [],
   "source": [
    "choices = LpVariable.matrix(\"choice\",  (nRow, pCol),0,1,LpInteger)\n",
    "# x = np.asscalar(lpDot(np.array(lpDot(choices, E1.T))).T > 0, E2.T)\n",
    "# x = lpDot(np.array(lpDot(choices, E1.T)).T & E2, E2.T)\n",
    "# t = np.array(np.matmul(np.array(choices), E1.T)).T\n",
    "\n",
    "a = np.array(choices).dot(E1.T).T\n",
    "b = [sum(choices[r]) / len(pCol) for r in range(len(nRow))]\n",
    "c = lpSum([1 if a[0][r] >= 1 else 0 for r in range(len(nRow))])\n",
    "# e = sum(round(b[r]) for r in range(len(nRow)))\n",
    "\n",
    "# np.array(b)\n",
    "# np.logical_and(np.array(b), E2)\n",
    "# print(a)\n",
    "# print(b)\n",
    "# a =  np.array(choices).dot(E1.T)\n",
    "\n",
    "\n",
    "# p = LpProblem(\"text\", LpMinimize)\n",
    "# p +=  [np.sign(sum(choices[r]) / len(pCol)) for r in range(len(nRow))], \"\"\n",
    "\n",
    "# for c in pCol:\n",
    "#     p += lpSum([choices[r][c] for r in nRow]) == 1, \"\"\n",
    "# p.solve()\n",
    "# print(LpStatus[p.status])\n",
    "# print(\"objective:\",value(p.objective))"
   ]
  },
  {
   "cell_type": "code",
   "execution_count": 16,
   "metadata": {},
   "outputs": [
    {
     "data": {
      "text/plain": [
       "'Optimal'"
      ]
     },
     "execution_count": 16,
     "metadata": {},
     "output_type": "execute_result"
    }
   ],
   "source": [
    "import math\n",
    "\n",
    "choices = LpVariable.matrix(\"Choice\", (nRow, pCol),0,1,LpInteger)\n",
    "nodeOccupation = LpVariable.matrix(\"node\", nRow,0,1,LpInteger)\n",
    "# nodeOccupation = [lpSum(choices[n]) for n in range(len(nRow))]\n",
    "# for n in  range(len(nRow)):\n",
    "#     nodeOccupation[n].upBound = 1\n",
    "\n",
    "prob = LpProblem(\"lp\", LpMinimize)\n",
    "\n",
    "# choices = [LpVariable(f'x{i}{j}', 0, 1, LpInteger) for i in range(nodeNum) for j in range(podNum)]\n",
    "# matrixing(choices)\n",
    "# objective\n",
    "# prob += lpSum([1 if 1 in choices[r].values() else 0 for r in range(len(choices))]), \"objective function\"\n",
    "prob += lpSum(nodeOccupation), \"objective function\"\n",
    "\n",
    "# one pod can only assign to one node\n",
    "for c in range(len(pCol)):\n",
    "    prob += lpSum([choices[r][c] for r in range(len(nRow))]) == 1, \"\"\n",
    "    \n",
    "# print(lpDot(podList, choices))\n",
    "\n",
    "for r in range(len(nRow)):\n",
    "    # if there is pod in this node\n",
    "    for c in range(len(pCol)):\n",
    "        prob += choices[r][c] <= nodeOccupation[r], \"\"\n",
    "    # satisfy node cpu capacity \n",
    "    prob += lpSum([podList[c][POD_CPU_INDEX] * choices[r][c]  for c in range(len(pCol))]) <= nodeList[r][NODE_CPU_INDEX], \"\"\n",
    "    # satisfy node memory capacity \n",
    "    prob += lpSum([podList[c][POD_MEMORY_INDEX] * choices[r][c]  for c in range(len(pCol))]) <= nodeList[r][NODE_MEMORY_INDEX], \"\"\n",
    "    # satisfy node pod number capacity \n",
    "    prob += lpSum([choices[r][c]  for c in range(len(pCol))]) <= nodeList[r][NODE_POD_SPACE_INDEX]\n",
    "    \n",
    "prob.solve()\n",
    "LpStatus[prob.status]\n",
    "\n"
   ]
  },
  {
   "cell_type": "code",
   "execution_count": 17,
   "metadata": {},
   "outputs": [
    {
     "name": "stdout",
     "output_type": "stream",
     "text": [
      "objective: 2.0\n",
      "lp:\n",
      "MINIMIZE\n",
      "1*node_0 + 1*node_1 + 0\n",
      "SUBJECT TO\n",
      "_C1: Choice_0_0 + Choice_1_0 = 1\n",
      "\n",
      "_C2: Choice_0_1 + Choice_1_1 = 1\n",
      "\n",
      "_C3: Choice_0_2 + Choice_1_2 = 1\n",
      "\n",
      "_C4: Choice_0_0 - node_0 <= 0\n",
      "\n",
      "_C5: Choice_0_1 - node_0 <= 0\n",
      "\n",
      "_C6: Choice_0_2 - node_0 <= 0\n",
      "\n",
      "_C7: 10 Choice_0_0 + 10 Choice_0_1 + 5 Choice_0_2 <= 20\n",
      "\n",
      "_C8: 3 Choice_0_0 + Choice_0_1 + 3 Choice_0_2 <= 4\n",
      "\n",
      "_C9: Choice_0_0 + Choice_0_1 + Choice_0_2 <= 9\n",
      "\n",
      "_C10: Choice_1_0 - node_1 <= 0\n",
      "\n",
      "_C11: Choice_1_1 - node_1 <= 0\n",
      "\n",
      "_C12: Choice_1_2 - node_1 <= 0\n",
      "\n",
      "_C13: 10 Choice_1_0 + 10 Choice_1_1 + 5 Choice_1_2 <= 15\n",
      "\n",
      "_C14: 3 Choice_1_0 + Choice_1_1 + 3 Choice_1_2 <= 4\n",
      "\n",
      "_C15: Choice_1_0 + Choice_1_1 + Choice_1_2 <= 7\n",
      "\n",
      "VARIABLES\n",
      "0 <= Choice_0_0 <= 1 Integer\n",
      "0 <= Choice_0_1 <= 1 Integer\n",
      "0 <= Choice_0_2 <= 1 Integer\n",
      "0 <= Choice_1_0 <= 1 Integer\n",
      "0 <= Choice_1_1 <= 1 Integer\n",
      "0 <= Choice_1_2 <= 1 Integer\n",
      "0 <= node_0 <= 1 Integer\n",
      "0 <= node_1 <= 1 Integer\n",
      "\n",
      "Choice_0_0 = 1.0\n",
      "Choice_0_1 = 1.0\n",
      "Choice_0_2 = 0.0\n",
      "Choice_1_0 = 0.0\n",
      "Choice_1_1 = 0.0\n",
      "Choice_1_2 = 1.0\n",
      "node_0 = 1.0\n",
      "node_1 = 1.0\n"
     ]
    }
   ],
   "source": [
    "\n",
    "print(\"objective:\",value(prob.objective))\n",
    "print(prob)\n",
    "for v in prob.variables():\n",
    "    print(v.name, \"=\", v.varValue)  \n",
    "# for r in nRow :\n",
    "#     for c in pCol:\n",
    "#         print(value(prob.choices[r][c] ))"
   ]
  },
  {
   "cell_type": "markdown",
   "metadata": {},
   "source": [
    "# Getting real"
   ]
  },
  {
   "cell_type": "code",
   "execution_count": 43,
   "metadata": {},
   "outputs": [],
   "source": [
    "def schedule_solve(podList, nodeList, VERBOSE = False):\n",
    "    podNum = len(podList)\n",
    "    nodeNum = len(nodeList)\n",
    "\n",
    "    nRow = [i for i in range(nodeNum)]\n",
    "    pCol = [i for i in range(podNum)]\n",
    "\n",
    "    # matrix stands for pod selection\n",
    "    choices = LpVariable.matrix(\"choice\", (nRow, pCol),0,1,LpInteger)\n",
    "    # node usage\n",
    "    nodeOccupation = LpVariable.matrix(\"node\", nRow,0,1,LpInteger)\n",
    "\n",
    "    prob = LpProblem(\"lp\", LpMinimize)\n",
    "    # minimaze the node usage\n",
    "    prob += lpSum(nodeOccupation), \"objective function\"\n",
    "\n",
    "    # one pod can only assign to one node\n",
    "    for c in range(len(pCol)):\n",
    "        prob += lpSum([choices[r][c] for r in range(len(nRow))]) == 1, \"\"\n",
    "\n",
    "\n",
    "    for r in range(len(nRow)):\n",
    "        # if there is pod in this node\n",
    "        for c in range(len(pCol)):\n",
    "            prob += choices[r][c] <= nodeOccupation[r], \"\"\n",
    "        # satisfy node cpu capacity \n",
    "        prob += lpSum([podList[c][POD_CPU_INDEX] * choices[r][c]  for c in range(len(pCol))]) <= nodeList[r][NODE_CPU_INDEX], \"\"\n",
    "        # satisfy node memory capacity \n",
    "        prob += lpSum([podList[c][POD_MEMORY_INDEX] * choices[r][c]  for c in range(len(pCol))]) <= nodeList[r][NODE_MEMORY_INDEX], \"\"\n",
    "        # satisfy node pod number capacity \n",
    "        prob += lpSum([choices[r][c]  for c in range(len(pCol))]) <= nodeList[r][NODE_POD_SPACE_INDEX]\n",
    "        \n",
    "    prob.solve()\n",
    "    result = [[0 for col in range(podNum)] for row in range(nodeNum)]\n",
    "    if LpStatus[prob.status] == \"Optimal\":\n",
    "        if VERBOSE: \n",
    "            print(LpStatus[prob.status])\n",
    "            print(\"objective:\",value(prob.objective))\n",
    "            print(prob)\n",
    "            for v in prob.variables():\n",
    "                print(v.name, \"=\", v.varValue)  \n",
    "                \n",
    "        for v in prob.variables():\n",
    "            t = v.name.split('_')\n",
    "            if t[0] == 'choice':\n",
    "                result[int(t[1])][int(t[2])] = v.varValue\n",
    "#         print(result)\n",
    "\n",
    "    return str(LpStatus[prob.status]), result"
   ]
  },
  {
   "cell_type": "code",
   "execution_count": 31,
   "metadata": {},
   "outputs": [
    {
     "name": "stdout",
     "output_type": "stream",
     "text": [
      "time: 0.04214906692504883\n"
     ]
    }
   ],
   "source": [
    "import time as time\n",
    "\n",
    "start = time.time()\n",
    "podList = np.random.rand(20, 2)\n",
    "nodeList = np.random.rand(10, 3)\n",
    "schedule_solve(podList, nodeList, True)\n",
    "print(\"time:\",time.time() - start)"
   ]
  },
  {
   "cell_type": "code",
   "execution_count": null,
   "metadata": {},
   "outputs": [],
   "source": [
    "test_case = [\n",
    "    [20, 5],\n",
    "    [50, 5],\n",
    "    [20, 10],\n",
    "    [50, 10],\n",
    "    [80, 10],\n",
    "    [100, 10],\n",
    "    [150, 10],\n",
    "    [200, 10],\n",
    "    [100, 20],\n",
    "    [200, 20]\n",
    "]\n",
    "results = []"
   ]
  },
  {
   "cell_type": "code",
   "execution_count": null,
   "metadata": {},
   "outputs": [],
   "source": [
    "for i in test_case:\n",
    "    d = dict()\n",
    "    podNum = i[0]\n",
    "    nodeNum = i[1]\n",
    "    d['pod_num'] = podNum\n",
    "    d['node_num'] = nodeNum\n",
    "    while True:\n",
    "        podList = np.random.randint(0, 10, (podNum, 2))\n",
    "        nodeList = np.random.randint(200, 300, (nodeNum, 3))\n",
    "        start = time.time()\n",
    "    \n",
    "        status, result = schedule_solve(podList, nodeList)\n",
    "        if status == 'Optimal':\n",
    "            t = time.time() - start\n",
    "            d['time'] = t\n",
    "            d['status'] = status\n",
    "            results.append(d)\n",
    "            break"
   ]
  },
  {
   "cell_type": "code",
   "execution_count": 35,
   "metadata": {},
   "outputs": [],
   "source": [
    "results=[]"
   ]
  },
  {
   "cell_type": "code",
   "execution_count": 79,
   "metadata": {},
   "outputs": [
    {
     "ename": "NameError",
     "evalue": "name 'results_dict' is not defined",
     "output_type": "error",
     "traceback": [
      "\u001b[0;31m---------------------------------------------------------------------------\u001b[0m",
      "\u001b[0;31mNameError\u001b[0m                                 Traceback (most recent call last)",
      "\u001b[0;32m<ipython-input-79-30d872d8dfe4>\u001b[0m in \u001b[0;36m<module>\u001b[0;34m\u001b[0m\n\u001b[1;32m      2\u001b[0m \u001b[0;34m\u001b[0m\u001b[0m\n\u001b[1;32m      3\u001b[0m \u001b[0;32mwith\u001b[0m \u001b[0mopen\u001b[0m\u001b[0;34m(\u001b[0m\u001b[0;34m\"results.json\"\u001b[0m\u001b[0;34m,\u001b[0m \u001b[0;34m'w'\u001b[0m\u001b[0;34m)\u001b[0m \u001b[0;32mas\u001b[0m \u001b[0mf\u001b[0m\u001b[0;34m:\u001b[0m\u001b[0;34m\u001b[0m\u001b[0;34m\u001b[0m\u001b[0m\n\u001b[0;32m----> 4\u001b[0;31m     \u001b[0mjson\u001b[0m\u001b[0;34m.\u001b[0m\u001b[0mdump\u001b[0m\u001b[0;34m(\u001b[0m\u001b[0mresults_dict\u001b[0m\u001b[0;34m,\u001b[0m \u001b[0mf\u001b[0m\u001b[0;34m)\u001b[0m\u001b[0;34m\u001b[0m\u001b[0;34m\u001b[0m\u001b[0m\n\u001b[0m",
      "\u001b[0;31mNameError\u001b[0m: name 'results_dict' is not defined"
     ]
    }
   ],
   "source": [
    "import json\n",
    "\n",
    "with open(\"results.json\", 'w') as f:\n",
    "    json.dump(results_dict, f)"
   ]
  },
  {
   "cell_type": "code",
   "execution_count": 38,
   "metadata": {},
   "outputs": [],
   "source": [
    "def write_to_file(d):\n",
    "    with open(\"results.json\", 'a') as f:\n",
    "        json.dump(d, f)"
   ]
  },
  {
   "cell_type": "code",
   "execution_count": 82,
   "metadata": {},
   "outputs": [
    {
     "ename": "JSONDecodeError",
     "evalue": "Expecting value: line 1 column 109 (char 108)",
     "output_type": "error",
     "traceback": [
      "\u001b[0;31m---------------------------------------------------------------------------\u001b[0m",
      "\u001b[0;31mJSONDecodeError\u001b[0m                           Traceback (most recent call last)",
      "\u001b[0;32m<ipython-input-82-e7aa242b3385>\u001b[0m in \u001b[0;36m<module>\u001b[0;34m\u001b[0m\n\u001b[1;32m      1\u001b[0m \u001b[0;32mwith\u001b[0m \u001b[0mopen\u001b[0m\u001b[0;34m(\u001b[0m\u001b[0;34m\"results.json\"\u001b[0m\u001b[0;34m,\u001b[0m \u001b[0;34m'r'\u001b[0m\u001b[0;34m)\u001b[0m \u001b[0;32mas\u001b[0m \u001b[0mf\u001b[0m\u001b[0;34m:\u001b[0m\u001b[0;34m\u001b[0m\u001b[0;34m\u001b[0m\u001b[0m\n\u001b[0;32m----> 2\u001b[0;31m     \u001b[0mload_dict\u001b[0m \u001b[0;34m=\u001b[0m \u001b[0mjson\u001b[0m\u001b[0;34m.\u001b[0m\u001b[0mload\u001b[0m\u001b[0;34m(\u001b[0m\u001b[0mf\u001b[0m\u001b[0;34m)\u001b[0m\u001b[0;34m\u001b[0m\u001b[0;34m\u001b[0m\u001b[0m\n\u001b[0m\u001b[1;32m      3\u001b[0m     \u001b[0mprint\u001b[0m\u001b[0;34m(\u001b[0m\u001b[0mload_dict\u001b[0m\u001b[0;34m)\u001b[0m\u001b[0;34m\u001b[0m\u001b[0;34m\u001b[0m\u001b[0m\n",
      "\u001b[0;32m/usr/local/Cellar/python/3.7.2_1/Frameworks/Python.framework/Versions/3.7/lib/python3.7/json/__init__.py\u001b[0m in \u001b[0;36mload\u001b[0;34m(fp, cls, object_hook, parse_float, parse_int, parse_constant, object_pairs_hook, **kw)\u001b[0m\n\u001b[1;32m    294\u001b[0m         \u001b[0mcls\u001b[0m\u001b[0;34m=\u001b[0m\u001b[0mcls\u001b[0m\u001b[0;34m,\u001b[0m \u001b[0mobject_hook\u001b[0m\u001b[0;34m=\u001b[0m\u001b[0mobject_hook\u001b[0m\u001b[0;34m,\u001b[0m\u001b[0;34m\u001b[0m\u001b[0;34m\u001b[0m\u001b[0m\n\u001b[1;32m    295\u001b[0m         \u001b[0mparse_float\u001b[0m\u001b[0;34m=\u001b[0m\u001b[0mparse_float\u001b[0m\u001b[0;34m,\u001b[0m \u001b[0mparse_int\u001b[0m\u001b[0;34m=\u001b[0m\u001b[0mparse_int\u001b[0m\u001b[0;34m,\u001b[0m\u001b[0;34m\u001b[0m\u001b[0;34m\u001b[0m\u001b[0m\n\u001b[0;32m--> 296\u001b[0;31m         parse_constant=parse_constant, object_pairs_hook=object_pairs_hook, **kw)\n\u001b[0m\u001b[1;32m    297\u001b[0m \u001b[0;34m\u001b[0m\u001b[0m\n\u001b[1;32m    298\u001b[0m \u001b[0;34m\u001b[0m\u001b[0m\n",
      "\u001b[0;32m/usr/local/Cellar/python/3.7.2_1/Frameworks/Python.framework/Versions/3.7/lib/python3.7/json/__init__.py\u001b[0m in \u001b[0;36mloads\u001b[0;34m(s, encoding, cls, object_hook, parse_float, parse_int, parse_constant, object_pairs_hook, **kw)\u001b[0m\n\u001b[1;32m    346\u001b[0m             \u001b[0mparse_int\u001b[0m \u001b[0;32mis\u001b[0m \u001b[0;32mNone\u001b[0m \u001b[0;32mand\u001b[0m \u001b[0mparse_float\u001b[0m \u001b[0;32mis\u001b[0m \u001b[0;32mNone\u001b[0m \u001b[0;32mand\u001b[0m\u001b[0;34m\u001b[0m\u001b[0;34m\u001b[0m\u001b[0m\n\u001b[1;32m    347\u001b[0m             parse_constant is None and object_pairs_hook is None and not kw):\n\u001b[0;32m--> 348\u001b[0;31m         \u001b[0;32mreturn\u001b[0m \u001b[0m_default_decoder\u001b[0m\u001b[0;34m.\u001b[0m\u001b[0mdecode\u001b[0m\u001b[0;34m(\u001b[0m\u001b[0ms\u001b[0m\u001b[0;34m)\u001b[0m\u001b[0;34m\u001b[0m\u001b[0;34m\u001b[0m\u001b[0m\n\u001b[0m\u001b[1;32m    349\u001b[0m     \u001b[0;32mif\u001b[0m \u001b[0mcls\u001b[0m \u001b[0;32mis\u001b[0m \u001b[0;32mNone\u001b[0m\u001b[0;34m:\u001b[0m\u001b[0;34m\u001b[0m\u001b[0;34m\u001b[0m\u001b[0m\n\u001b[1;32m    350\u001b[0m         \u001b[0mcls\u001b[0m \u001b[0;34m=\u001b[0m \u001b[0mJSONDecoder\u001b[0m\u001b[0;34m\u001b[0m\u001b[0;34m\u001b[0m\u001b[0m\n",
      "\u001b[0;32m/usr/local/Cellar/python/3.7.2_1/Frameworks/Python.framework/Versions/3.7/lib/python3.7/json/decoder.py\u001b[0m in \u001b[0;36mdecode\u001b[0;34m(self, s, _w)\u001b[0m\n\u001b[1;32m    335\u001b[0m \u001b[0;34m\u001b[0m\u001b[0m\n\u001b[1;32m    336\u001b[0m         \"\"\"\n\u001b[0;32m--> 337\u001b[0;31m         \u001b[0mobj\u001b[0m\u001b[0;34m,\u001b[0m \u001b[0mend\u001b[0m \u001b[0;34m=\u001b[0m \u001b[0mself\u001b[0m\u001b[0;34m.\u001b[0m\u001b[0mraw_decode\u001b[0m\u001b[0;34m(\u001b[0m\u001b[0ms\u001b[0m\u001b[0;34m,\u001b[0m \u001b[0midx\u001b[0m\u001b[0;34m=\u001b[0m\u001b[0m_w\u001b[0m\u001b[0;34m(\u001b[0m\u001b[0ms\u001b[0m\u001b[0;34m,\u001b[0m \u001b[0;36m0\u001b[0m\u001b[0;34m)\u001b[0m\u001b[0;34m.\u001b[0m\u001b[0mend\u001b[0m\u001b[0;34m(\u001b[0m\u001b[0;34m)\u001b[0m\u001b[0;34m)\u001b[0m\u001b[0;34m\u001b[0m\u001b[0;34m\u001b[0m\u001b[0m\n\u001b[0m\u001b[1;32m    338\u001b[0m         \u001b[0mend\u001b[0m \u001b[0;34m=\u001b[0m \u001b[0m_w\u001b[0m\u001b[0;34m(\u001b[0m\u001b[0ms\u001b[0m\u001b[0;34m,\u001b[0m \u001b[0mend\u001b[0m\u001b[0;34m)\u001b[0m\u001b[0;34m.\u001b[0m\u001b[0mend\u001b[0m\u001b[0;34m(\u001b[0m\u001b[0;34m)\u001b[0m\u001b[0;34m\u001b[0m\u001b[0;34m\u001b[0m\u001b[0m\n\u001b[1;32m    339\u001b[0m         \u001b[0;32mif\u001b[0m \u001b[0mend\u001b[0m \u001b[0;34m!=\u001b[0m \u001b[0mlen\u001b[0m\u001b[0;34m(\u001b[0m\u001b[0ms\u001b[0m\u001b[0;34m)\u001b[0m\u001b[0;34m:\u001b[0m\u001b[0;34m\u001b[0m\u001b[0;34m\u001b[0m\u001b[0m\n",
      "\u001b[0;32m/usr/local/Cellar/python/3.7.2_1/Frameworks/Python.framework/Versions/3.7/lib/python3.7/json/decoder.py\u001b[0m in \u001b[0;36mraw_decode\u001b[0;34m(self, s, idx)\u001b[0m\n\u001b[1;32m    353\u001b[0m             \u001b[0mobj\u001b[0m\u001b[0;34m,\u001b[0m \u001b[0mend\u001b[0m \u001b[0;34m=\u001b[0m \u001b[0mself\u001b[0m\u001b[0;34m.\u001b[0m\u001b[0mscan_once\u001b[0m\u001b[0;34m(\u001b[0m\u001b[0ms\u001b[0m\u001b[0;34m,\u001b[0m \u001b[0midx\u001b[0m\u001b[0;34m)\u001b[0m\u001b[0;34m\u001b[0m\u001b[0;34m\u001b[0m\u001b[0m\n\u001b[1;32m    354\u001b[0m         \u001b[0;32mexcept\u001b[0m \u001b[0mStopIteration\u001b[0m \u001b[0;32mas\u001b[0m \u001b[0merr\u001b[0m\u001b[0;34m:\u001b[0m\u001b[0;34m\u001b[0m\u001b[0;34m\u001b[0m\u001b[0m\n\u001b[0;32m--> 355\u001b[0;31m             \u001b[0;32mraise\u001b[0m \u001b[0mJSONDecodeError\u001b[0m\u001b[0;34m(\u001b[0m\u001b[0;34m\"Expecting value\"\u001b[0m\u001b[0;34m,\u001b[0m \u001b[0ms\u001b[0m\u001b[0;34m,\u001b[0m \u001b[0merr\u001b[0m\u001b[0;34m.\u001b[0m\u001b[0mvalue\u001b[0m\u001b[0;34m)\u001b[0m \u001b[0;32mfrom\u001b[0m \u001b[0;32mNone\u001b[0m\u001b[0;34m\u001b[0m\u001b[0;34m\u001b[0m\u001b[0m\n\u001b[0m\u001b[1;32m    356\u001b[0m         \u001b[0;32mreturn\u001b[0m \u001b[0mobj\u001b[0m\u001b[0;34m,\u001b[0m \u001b[0mend\u001b[0m\u001b[0;34m\u001b[0m\u001b[0;34m\u001b[0m\u001b[0m\n",
      "\u001b[0;31mJSONDecodeError\u001b[0m: Expecting value: line 1 column 109 (char 108)"
     ]
    }
   ],
   "source": [
    "with open(\"results.json\", 'r') as f:\n",
    "    load_dict = json.load(f)\n",
    "    print(load_dict)"
   ]
  },
  {
   "cell_type": "code",
   "execution_count": 20,
   "metadata": {},
   "outputs": [
    {
     "name": "stdout",
     "output_type": "stream",
     "text": [
      "Infeasible\n",
      "time: 0.04793119430541992\n"
     ]
    }
   ],
   "source": [
    "start = time.time()\n",
    "schedule_solve(podList, nodeList)\n",
    "print(\"time:\", time.time() - start)"
   ]
  },
  {
   "cell_type": "code",
   "execution_count": 41,
   "metadata": {},
   "outputs": [],
   "source": [
    "import matplotlib.pyplot as plt\n",
    "\n",
    "def plot(title, x, y):\n",
    "    figure = plt.figure(figsize = (10,3))\n",
    "    plt.plot(x, y)\n",
    "    plt.title(title + ' Time Usage ')\n",
    "    plt.xlabel('pod number')\n",
    "    plt.ylabel('time',rotation = 90)\n",
    "    plt.savefig(title+'.png')\n",
    "    plt.show()\n",
    "    \n",
    "def run_test(podNum, nodeNum):\n",
    "    results = []\n",
    "    d = dict()\n",
    "    d['pod_num'] = podNum\n",
    "    d['node_num'] = nodeNum\n",
    "    while True:\n",
    "        podList = np.random.randint(0, 10, (podNum, 2))\n",
    "        nodeList = np.random.randint(200, 300, (nodeNum, 3))\n",
    "        start = time.time()\n",
    "    \n",
    "        status, result = schedule_solve(podList, nodeList)\n",
    "        if status == 'Optimal':\n",
    "            t = time.time() - start\n",
    "            d['time'] = t\n",
    "            d['status'] = status\n",
    "            d['input_pods']=podList.tolist()\n",
    "            d['input_nodes']=nodeList.tolist()\n",
    "            d['allocation_matrix']=result\n",
    "            results.append(d)\n",
    "            return t, d"
   ]
  },
  {
   "cell_type": "code",
   "execution_count": 99,
   "metadata": {},
   "outputs": [],
   "source": [
    "result_dict = dict()"
   ]
  },
  {
   "cell_type": "code",
   "execution_count": null,
   "metadata": {},
   "outputs": [],
   "source": [
    "nodeNum = 5\n",
    "pod_5 = [i for i in range(1, 50)]\n",
    "result_5 = []\n",
    "\n",
    "t_5 = []\n",
    "for p in pod_5:\n",
    "    tt, d = run_test(p, nodeNum)\n",
    "    result_5.append(d)\n",
    "    t_5.append(tt)\n",
    "    \n",
    "plot(\"5 Nodes\", pod_5, t_5)"
   ]
  },
  {
   "cell_type": "code",
   "execution_count": null,
   "metadata": {},
   "outputs": [],
   "source": [
    "import pprint\n",
    "\n",
    "# pprint.pprint(result_5)\n",
    "result_dict['5_nodes']  = result_5"
   ]
  },
  {
   "cell_type": "code",
   "execution_count": 102,
   "metadata": {},
   "outputs": [
    {
     "data": {
      "image/png": "[encoded data removed]",
      "text/plain": [
       "<Figure size 720x216 with 1 Axes>"
      ]
     },
     "metadata": {
      "needs_background": "light"
     },
     "output_type": "display_data"
    }
   ],
   "source": [
    "nodeNum = 10\n",
    "pod_10 = [i*2 for i in range(1, 50)]\n",
    "result_10 = []\n",
    "\n",
    "t_10 = []\n",
    "for p in pod_10:\n",
    "    tt, d = run_test(p, nodeNum)\n",
    "    result_10.append(d)\n",
    "    t_10.append(tt)\n",
    "\n",
    "plot(\"10 Nodes\", pod_10, t_10)"
   ]
  },
  {
   "cell_type": "code",
   "execution_count": 103,
   "metadata": {},
   "outputs": [],
   "source": [
    "\n",
    "result_dict['10_nodes']  = result_10"
   ]
  },
  {
   "cell_type": "code",
   "execution_count": null,
   "metadata": {},
   "outputs": [
    {
     "data": {
      "image/png": "[encoded data removed]",
      "text/plain": [
       "<Figure size 720x216 with 1 Axes>"
      ]
     },
     "metadata": {
      "needs_background": "light"
     },
     "output_type": "display_data"
    }
   ],
   "source": [
    "nodeNum = 15\n",
    "pod_15 = [i*2 for i in range(1, 60)]\n",
    "result_15 = []\n",
    "\n",
    "t_15 = []\n",
    "for p in pod_15:\n",
    "    tt, d = run_test(p, nodeNum)\n",
    "    result_15.append(d)\n",
    "    t_15.append(tt)\n",
    "    \n",
    "plot(\"15 Nodes\", pod_15, t_15)"
   ]
  },
  {
   "cell_type": "code",
   "execution_count": null,
   "metadata": {},
   "outputs": [],
   "source": [
    "result_dict['15_nodes']  = result_15"
   ]
  },
  {
   "cell_type": "code",
   "execution_count": null,
   "metadata": {},
   "outputs": [],
   "source": [
    "nodeNum = 20\n",
    "pod_20 = [i*5 for i in range(1, 30)]\n",
    "result_20 = []\n",
    "\n",
    "t_20 = []\n",
    "for p in pod_20:\n",
    "    tt, d = run_test(p, nodeNum)\n",
    "    result_20.append(d)\n",
    "    t_20.append(tt)\n",
    "    \n",
    "plot(\"20 Nodes\", pod_20, t_20)"
   ]
  },
  {
   "cell_type": "code",
   "execution_count": null,
   "metadata": {},
   "outputs": [],
   "source": [
    "result_dict['20_nodes']  = result_20"
   ]
  },
  {
   "cell_type": "code",
   "execution_count": null,
   "metadata": {},
   "outputs": [],
   "source": [
    "plot(\"20 Nodes\", pod_20, t_20)"
   ]
  },
  {
   "cell_type": "code",
   "execution_count": null,
   "metadata": {},
   "outputs": [],
   "source": [
    "figure = plt.figure(figsize = (20,7))\n",
    "plt.plot(pod_5, t_5, color = 'red', linewidth = 1.5, label = '5 nodes')\n",
    "plt.plot(pod_10, t_10, color = 'blue', linewidth = 1.5, label = '10 nodes')\n",
    "plt.plot(pod_15, t_15, color = 'green', linewidth = 1.5, label = '15 nodes')\n",
    "plt.plot(pod_20, t_20, color = 'black', linewidth = 1.5, label = '20 nodes')\n",
    "plt.title('Time Usage ')\n",
    "plt.xlabel('pod number')\n",
    "plt.ylabel('time',rotation = 90)\n",
    "plt.legend(loc='upper right')\n",
    "plt.show()"
   ]
  },
  {
   "cell_type": "code",
   "execution_count": 89,
   "metadata": {},
   "outputs": [
    {
     "ename": "TypeError",
     "evalue": "Object of type ndarray is not JSON serializable",
     "output_type": "error",
     "traceback": [
      "\u001b[0;31m---------------------------------------------------------------------------\u001b[0m",
      "\u001b[0;31mTypeError\u001b[0m                                 Traceback (most recent call last)",
      "\u001b[0;32m<ipython-input-89-51a676be2e9c>\u001b[0m in \u001b[0;36m<module>\u001b[0;34m\u001b[0m\n\u001b[1;32m      2\u001b[0m \u001b[0;32mwith\u001b[0m \u001b[0mopen\u001b[0m\u001b[0;34m(\u001b[0m\u001b[0;34m\"results.json\"\u001b[0m\u001b[0;34m,\u001b[0m \u001b[0;34m'w'\u001b[0m\u001b[0;34m)\u001b[0m \u001b[0;32mas\u001b[0m \u001b[0mf\u001b[0m\u001b[0;34m:\u001b[0m\u001b[0;34m\u001b[0m\u001b[0;34m\u001b[0m\u001b[0m\n\u001b[1;32m      3\u001b[0m \u001b[0;31m#     t = json.dumps(result_dict)\u001b[0m\u001b[0;34m\u001b[0m\u001b[0;34m\u001b[0m\u001b[0;34m\u001b[0m\u001b[0m\n\u001b[0;32m----> 4\u001b[0;31m     \u001b[0mjson\u001b[0m\u001b[0;34m.\u001b[0m\u001b[0mdump\u001b[0m\u001b[0;34m(\u001b[0m\u001b[0mresult_dict\u001b[0m\u001b[0;34m,\u001b[0m \u001b[0mf\u001b[0m\u001b[0;34m)\u001b[0m\u001b[0;34m\u001b[0m\u001b[0;34m\u001b[0m\u001b[0m\n\u001b[0m\u001b[1;32m      5\u001b[0m \u001b[0;31m# type(result_dict)\u001b[0m\u001b[0;34m\u001b[0m\u001b[0;34m\u001b[0m\u001b[0;34m\u001b[0m\u001b[0m\n",
      "\u001b[0;32m/usr/local/Cellar/python/3.7.2_1/Frameworks/Python.framework/Versions/3.7/lib/python3.7/json/__init__.py\u001b[0m in \u001b[0;36mdump\u001b[0;34m(obj, fp, skipkeys, ensure_ascii, check_circular, allow_nan, cls, indent, separators, default, sort_keys, **kw)\u001b[0m\n\u001b[1;32m    177\u001b[0m     \u001b[0;31m# could accelerate with writelines in some versions of Python, at\u001b[0m\u001b[0;34m\u001b[0m\u001b[0;34m\u001b[0m\u001b[0;34m\u001b[0m\u001b[0m\n\u001b[1;32m    178\u001b[0m     \u001b[0;31m# a debuggability cost\u001b[0m\u001b[0;34m\u001b[0m\u001b[0;34m\u001b[0m\u001b[0;34m\u001b[0m\u001b[0m\n\u001b[0;32m--> 179\u001b[0;31m     \u001b[0;32mfor\u001b[0m \u001b[0mchunk\u001b[0m \u001b[0;32min\u001b[0m \u001b[0miterable\u001b[0m\u001b[0;34m:\u001b[0m\u001b[0;34m\u001b[0m\u001b[0;34m\u001b[0m\u001b[0m\n\u001b[0m\u001b[1;32m    180\u001b[0m         \u001b[0mfp\u001b[0m\u001b[0;34m.\u001b[0m\u001b[0mwrite\u001b[0m\u001b[0;34m(\u001b[0m\u001b[0mchunk\u001b[0m\u001b[0;34m)\u001b[0m\u001b[0;34m\u001b[0m\u001b[0;34m\u001b[0m\u001b[0m\n\u001b[1;32m    181\u001b[0m \u001b[0;34m\u001b[0m\u001b[0m\n",
      "\u001b[0;32m/usr/local/Cellar/python/3.7.2_1/Frameworks/Python.framework/Versions/3.7/lib/python3.7/json/encoder.py\u001b[0m in \u001b[0;36m_iterencode\u001b[0;34m(o, _current_indent_level)\u001b[0m\n\u001b[1;32m    429\u001b[0m             \u001b[0;32myield\u001b[0m \u001b[0;32mfrom\u001b[0m \u001b[0m_iterencode_list\u001b[0m\u001b[0;34m(\u001b[0m\u001b[0mo\u001b[0m\u001b[0;34m,\u001b[0m \u001b[0m_current_indent_level\u001b[0m\u001b[0;34m)\u001b[0m\u001b[0;34m\u001b[0m\u001b[0;34m\u001b[0m\u001b[0m\n\u001b[1;32m    430\u001b[0m         \u001b[0;32melif\u001b[0m \u001b[0misinstance\u001b[0m\u001b[0;34m(\u001b[0m\u001b[0mo\u001b[0m\u001b[0;34m,\u001b[0m \u001b[0mdict\u001b[0m\u001b[0;34m)\u001b[0m\u001b[0;34m:\u001b[0m\u001b[0;34m\u001b[0m\u001b[0;34m\u001b[0m\u001b[0m\n\u001b[0;32m--> 431\u001b[0;31m             \u001b[0;32myield\u001b[0m \u001b[0;32mfrom\u001b[0m \u001b[0m_iterencode_dict\u001b[0m\u001b[0;34m(\u001b[0m\u001b[0mo\u001b[0m\u001b[0;34m,\u001b[0m \u001b[0m_current_indent_level\u001b[0m\u001b[0;34m)\u001b[0m\u001b[0;34m\u001b[0m\u001b[0;34m\u001b[0m\u001b[0m\n\u001b[0m\u001b[1;32m    432\u001b[0m         \u001b[0;32melse\u001b[0m\u001b[0;34m:\u001b[0m\u001b[0;34m\u001b[0m\u001b[0;34m\u001b[0m\u001b[0m\n\u001b[1;32m    433\u001b[0m             \u001b[0;32mif\u001b[0m \u001b[0mmarkers\u001b[0m \u001b[0;32mis\u001b[0m \u001b[0;32mnot\u001b[0m \u001b[0;32mNone\u001b[0m\u001b[0;34m:\u001b[0m\u001b[0;34m\u001b[0m\u001b[0;34m\u001b[0m\u001b[0m\n",
      "\u001b[0;32m/usr/local/Cellar/python/3.7.2_1/Frameworks/Python.framework/Versions/3.7/lib/python3.7/json/encoder.py\u001b[0m in \u001b[0;36m_iterencode_dict\u001b[0;34m(dct, _current_indent_level)\u001b[0m\n\u001b[1;32m    403\u001b[0m                 \u001b[0;32melse\u001b[0m\u001b[0;34m:\u001b[0m\u001b[0;34m\u001b[0m\u001b[0;34m\u001b[0m\u001b[0m\n\u001b[1;32m    404\u001b[0m                     \u001b[0mchunks\u001b[0m \u001b[0;34m=\u001b[0m \u001b[0m_iterencode\u001b[0m\u001b[0;34m(\u001b[0m\u001b[0mvalue\u001b[0m\u001b[0;34m,\u001b[0m \u001b[0m_current_indent_level\u001b[0m\u001b[0;34m)\u001b[0m\u001b[0;34m\u001b[0m\u001b[0;34m\u001b[0m\u001b[0m\n\u001b[0;32m--> 405\u001b[0;31m                 \u001b[0;32myield\u001b[0m \u001b[0;32mfrom\u001b[0m \u001b[0mchunks\u001b[0m\u001b[0;34m\u001b[0m\u001b[0;34m\u001b[0m\u001b[0m\n\u001b[0m\u001b[1;32m    406\u001b[0m         \u001b[0;32mif\u001b[0m \u001b[0mnewline_indent\u001b[0m \u001b[0;32mis\u001b[0m \u001b[0;32mnot\u001b[0m \u001b[0;32mNone\u001b[0m\u001b[0;34m:\u001b[0m\u001b[0;34m\u001b[0m\u001b[0;34m\u001b[0m\u001b[0m\n\u001b[1;32m    407\u001b[0m             \u001b[0m_current_indent_level\u001b[0m \u001b[0;34m-=\u001b[0m \u001b[0;36m1\u001b[0m\u001b[0;34m\u001b[0m\u001b[0;34m\u001b[0m\u001b[0m\n",
      "\u001b[0;32m/usr/local/Cellar/python/3.7.2_1/Frameworks/Python.framework/Versions/3.7/lib/python3.7/json/encoder.py\u001b[0m in \u001b[0;36m_iterencode_list\u001b[0;34m(lst, _current_indent_level)\u001b[0m\n\u001b[1;32m    323\u001b[0m                 \u001b[0;32melse\u001b[0m\u001b[0;34m:\u001b[0m\u001b[0;34m\u001b[0m\u001b[0;34m\u001b[0m\u001b[0m\n\u001b[1;32m    324\u001b[0m                     \u001b[0mchunks\u001b[0m \u001b[0;34m=\u001b[0m \u001b[0m_iterencode\u001b[0m\u001b[0;34m(\u001b[0m\u001b[0mvalue\u001b[0m\u001b[0;34m,\u001b[0m \u001b[0m_current_indent_level\u001b[0m\u001b[0;34m)\u001b[0m\u001b[0;34m\u001b[0m\u001b[0;34m\u001b[0m\u001b[0m\n\u001b[0;32m--> 325\u001b[0;31m                 \u001b[0;32myield\u001b[0m \u001b[0;32mfrom\u001b[0m \u001b[0mchunks\u001b[0m\u001b[0;34m\u001b[0m\u001b[0;34m\u001b[0m\u001b[0m\n\u001b[0m\u001b[1;32m    326\u001b[0m         \u001b[0;32mif\u001b[0m \u001b[0mnewline_indent\u001b[0m \u001b[0;32mis\u001b[0m \u001b[0;32mnot\u001b[0m \u001b[0;32mNone\u001b[0m\u001b[0;34m:\u001b[0m\u001b[0;34m\u001b[0m\u001b[0;34m\u001b[0m\u001b[0m\n\u001b[1;32m    327\u001b[0m             \u001b[0m_current_indent_level\u001b[0m \u001b[0;34m-=\u001b[0m \u001b[0;36m1\u001b[0m\u001b[0;34m\u001b[0m\u001b[0;34m\u001b[0m\u001b[0m\n",
      "\u001b[0;32m/usr/local/Cellar/python/3.7.2_1/Frameworks/Python.framework/Versions/3.7/lib/python3.7/json/encoder.py\u001b[0m in \u001b[0;36m_iterencode_dict\u001b[0;34m(dct, _current_indent_level)\u001b[0m\n\u001b[1;32m    403\u001b[0m                 \u001b[0;32melse\u001b[0m\u001b[0;34m:\u001b[0m\u001b[0;34m\u001b[0m\u001b[0;34m\u001b[0m\u001b[0m\n\u001b[1;32m    404\u001b[0m                     \u001b[0mchunks\u001b[0m \u001b[0;34m=\u001b[0m \u001b[0m_iterencode\u001b[0m\u001b[0;34m(\u001b[0m\u001b[0mvalue\u001b[0m\u001b[0;34m,\u001b[0m \u001b[0m_current_indent_level\u001b[0m\u001b[0;34m)\u001b[0m\u001b[0;34m\u001b[0m\u001b[0;34m\u001b[0m\u001b[0m\n\u001b[0;32m--> 405\u001b[0;31m                 \u001b[0;32myield\u001b[0m \u001b[0;32mfrom\u001b[0m \u001b[0mchunks\u001b[0m\u001b[0;34m\u001b[0m\u001b[0;34m\u001b[0m\u001b[0m\n\u001b[0m\u001b[1;32m    406\u001b[0m         \u001b[0;32mif\u001b[0m \u001b[0mnewline_indent\u001b[0m \u001b[0;32mis\u001b[0m \u001b[0;32mnot\u001b[0m \u001b[0;32mNone\u001b[0m\u001b[0;34m:\u001b[0m\u001b[0;34m\u001b[0m\u001b[0;34m\u001b[0m\u001b[0m\n\u001b[1;32m    407\u001b[0m             \u001b[0m_current_indent_level\u001b[0m \u001b[0;34m-=\u001b[0m \u001b[0;36m1\u001b[0m\u001b[0;34m\u001b[0m\u001b[0;34m\u001b[0m\u001b[0m\n",
      "\u001b[0;32m/usr/local/Cellar/python/3.7.2_1/Frameworks/Python.framework/Versions/3.7/lib/python3.7/json/encoder.py\u001b[0m in \u001b[0;36m_iterencode\u001b[0;34m(o, _current_indent_level)\u001b[0m\n\u001b[1;32m    436\u001b[0m                     \u001b[0;32mraise\u001b[0m \u001b[0mValueError\u001b[0m\u001b[0;34m(\u001b[0m\u001b[0;34m\"Circular reference detected\"\u001b[0m\u001b[0;34m)\u001b[0m\u001b[0;34m\u001b[0m\u001b[0;34m\u001b[0m\u001b[0m\n\u001b[1;32m    437\u001b[0m                 \u001b[0mmarkers\u001b[0m\u001b[0;34m[\u001b[0m\u001b[0mmarkerid\u001b[0m\u001b[0;34m]\u001b[0m \u001b[0;34m=\u001b[0m \u001b[0mo\u001b[0m\u001b[0;34m\u001b[0m\u001b[0;34m\u001b[0m\u001b[0m\n\u001b[0;32m--> 438\u001b[0;31m             \u001b[0mo\u001b[0m \u001b[0;34m=\u001b[0m \u001b[0m_default\u001b[0m\u001b[0;34m(\u001b[0m\u001b[0mo\u001b[0m\u001b[0;34m)\u001b[0m\u001b[0;34m\u001b[0m\u001b[0;34m\u001b[0m\u001b[0m\n\u001b[0m\u001b[1;32m    439\u001b[0m             \u001b[0;32myield\u001b[0m \u001b[0;32mfrom\u001b[0m \u001b[0m_iterencode\u001b[0m\u001b[0;34m(\u001b[0m\u001b[0mo\u001b[0m\u001b[0;34m,\u001b[0m \u001b[0m_current_indent_level\u001b[0m\u001b[0;34m)\u001b[0m\u001b[0;34m\u001b[0m\u001b[0;34m\u001b[0m\u001b[0m\n\u001b[1;32m    440\u001b[0m             \u001b[0;32mif\u001b[0m \u001b[0mmarkers\u001b[0m \u001b[0;32mis\u001b[0m \u001b[0;32mnot\u001b[0m \u001b[0;32mNone\u001b[0m\u001b[0;34m:\u001b[0m\u001b[0;34m\u001b[0m\u001b[0;34m\u001b[0m\u001b[0m\n",
      "\u001b[0;32m/usr/local/Cellar/python/3.7.2_1/Frameworks/Python.framework/Versions/3.7/lib/python3.7/json/encoder.py\u001b[0m in \u001b[0;36mdefault\u001b[0;34m(self, o)\u001b[0m\n\u001b[1;32m    177\u001b[0m \u001b[0;34m\u001b[0m\u001b[0m\n\u001b[1;32m    178\u001b[0m         \"\"\"\n\u001b[0;32m--> 179\u001b[0;31m         raise TypeError(f'Object of type {o.__class__.__name__} '\n\u001b[0m\u001b[1;32m    180\u001b[0m                         f'is not JSON serializable')\n\u001b[1;32m    181\u001b[0m \u001b[0;34m\u001b[0m\u001b[0m\n",
      "\u001b[0;31mTypeError\u001b[0m: Object of type ndarray is not JSON serializable"
     ]
    }
   ],
   "source": [
    "# pprint.pprint(result_dict)\n",
    "with open(\"results.json\", 'w') as f:\n",
    "#     t = json.dumps(result_dict)\n",
    "    json.dump(result_dict, f)\n",
    "# type(result_dict)"
   ]
  },
  {
   "cell_type": "code",
   "execution_count": null,
   "metadata": {},
   "outputs": [],
   "source": []
  }
 ],
 "metadata": {
  "kernelspec": {
   "display_name": "my_python3",
   "language": "python",
   "name": "my_python3"
  },
  "language_info": {
   "codemirror_mode": {
    "name": "ipython",
    "version": 3
   },
   "file_extension": ".py",
   "mimetype": "text/x-python",
   "name": "python",
   "nbconvert_exporter": "python",
   "pygments_lexer": "ipython3",
   "version": "3.7.2"
  }
 },
 "nbformat": 4,
 "nbformat_minor": 2
}
